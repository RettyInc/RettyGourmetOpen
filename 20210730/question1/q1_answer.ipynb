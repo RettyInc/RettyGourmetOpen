{
 "cells": [
  {
   "cell_type": "markdown",
   "metadata": {},
   "source": [
    "# 問題1\n",
    "## 焼肉を食べに行きたい！！\n",
    "\n",
    "- あなたはグルメオープンのお疲れ様会で、焼肉を食べに行きたい\n",
    "- 1000店舗の緯度経度情報・料理ジャンル・営業時間を持っています (CSVファイル)\n",
    "- 下記条件を全て満たしたお店を探します。\n",
    "\t- ある駅 (緯度 : 35.6546783 / 経度 :139.7369874) から1.0km以内のお店\n",
    "\t- ジャンルが焼肉のお店\n",
    "\t- 17時に営業中 (営業開始している) のお店\n",
    "- そのお店の【answer (回答項目)】が、問題1の回答です。\n",
    "\n",
    "※ 緯度経度の座標はすべて世界測地系の座標\n",
    "\n",
    "CSVファイル (1000店舗の緯度経度情報) は retty_gourmet_open_q1.csv\n",
    "\n",
    "| answer (回答候補) | latitude (緯度) | longitude (経度) | category (料理ジャンル) | hour_from (営業開始時間) | hour_to (営業終了時間) | 備考 |\n",
    "| --- | --- | --- | --- | --- | --- | --- |\n",
    "| PRE13/ARE8/SUB802 | 35.6625840 | 139.6973305 | ラーメン | 17:00:00 | 23:00:00 | 店舗A のお店情報 |\n",
    "| PRE13/ARE21/SUB2104 | 35.7799264 | 139.7524000 | 焼肉 |  18:00:00 | 26:00:00 | 店舗Bのお店情報 |\n",
    "| ... | ... | ... | ... |\n",
    "| PRE14/ARE31/SUB3103 | 35.5614942 | 139.5052934 | 肉バル |  18:00:00 | 20:00:00 | 店舗C のお店情報 | \n",
    "\n",
    "## 回答・解説\n",
    "### ポイント① 緯度経度\n",
    "緯度経度とは、場所を数値的に表現する方法の一つ。\n",
    "\n",
    "- 日本測地系 : 日本独自のもの。2002年に世界測地系へ移行している\n",
    "- 世界測地系 : 国際的に定められた基準となる測地系が世界測地系\n",
    "\n",
    "ご存知の通り、地球は平面ではなく球体 (正確には楕円体) になるので、球面を気にして計算する必要がある。\n",
    "\n",
    "今回の回答例では、Python の GeoPy とよばれるジオコーディングライブラリを利用して実装。  \n",
    "GeoPy では、カーニー法とよばれる、測地線距離を求める新しいアルゴリズムを採用。  \n",
    "https://geopy.readthedocs.io/en/stable/#module-geopy.distance\n",
    "\n",
    "今回の問題に限っていくと、平面と捉えて三平方の定理を用いて2点の距離を求めて、\n",
    "条件にあてはまる最小距離の店舗でも正しい回答を導けます。\n",
    "\n",
    "### ポイント② 営業時間の取り扱い\n",
    "日付型として取り扱いでも良いが、26:00:00 といった30時間制の情報取り扱いに注意。\n",
    "深夜営業店舗の営業時間表記でよく使われていて、Rettyでも同様の表記を採用している。\n",
    "\n",
    "24時以降の差分時間を翌日として取り扱うように実装するでも良いし、\n",
    "今回のように営業中かどうかの判定であれば、数値型やtimestamp型で比較でもよい。"
   ]
  },
  {
   "cell_type": "code",
   "execution_count": 73,
   "metadata": {},
   "outputs": [],
   "source": [
    "from geopy.distance import geodesic\n",
    "import pandas as pd\n",
    "import math\n",
    "from datetime import datetime,timedelta,timezone"
   ]
  },
  {
   "cell_type": "code",
   "execution_count": 74,
   "metadata": {
    "scrolled": false
   },
   "outputs": [
    {
     "data": {
      "text/html": [
       "<div>\n",
       "<style scoped>\n",
       "    .dataframe tbody tr th:only-of-type {\n",
       "        vertical-align: middle;\n",
       "    }\n",
       "\n",
       "    .dataframe tbody tr th {\n",
       "        vertical-align: top;\n",
       "    }\n",
       "\n",
       "    .dataframe thead th {\n",
       "        text-align: right;\n",
       "    }\n",
       "</style>\n",
       "<table border=\"1\" class=\"dataframe\">\n",
       "  <thead>\n",
       "    <tr style=\"text-align: right;\">\n",
       "      <th></th>\n",
       "      <th>answer</th>\n",
       "      <th>latitude</th>\n",
       "      <th>longitude</th>\n",
       "      <th>category</th>\n",
       "      <th>dinner_from</th>\n",
       "      <th>dinner_to</th>\n",
       "    </tr>\n",
       "  </thead>\n",
       "  <tbody>\n",
       "    <tr>\n",
       "      <th>0</th>\n",
       "      <td>PRE13/ARE11/SUB1103</td>\n",
       "      <td>35.699149</td>\n",
       "      <td>139.758853</td>\n",
       "      <td>ラーメン・麺類</td>\n",
       "      <td>17:00:00</td>\n",
       "      <td>22:00:00</td>\n",
       "    </tr>\n",
       "    <tr>\n",
       "      <th>1</th>\n",
       "      <td>PRE13/ARE7/SUB703</td>\n",
       "      <td>35.639204</td>\n",
       "      <td>139.704520</td>\n",
       "      <td>イタリアン</td>\n",
       "      <td>18:00:00</td>\n",
       "      <td>22:00:00</td>\n",
       "    </tr>\n",
       "    <tr>\n",
       "      <th>2</th>\n",
       "      <td>PRE13/ARE14/SUB1405</td>\n",
       "      <td>35.656415</td>\n",
       "      <td>139.734102</td>\n",
       "      <td>すし・魚料理</td>\n",
       "      <td>17:00:00</td>\n",
       "      <td>23:00:00</td>\n",
       "    </tr>\n",
       "    <tr>\n",
       "      <th>3</th>\n",
       "      <td>PRE13/ARE19/SUB1902</td>\n",
       "      <td>35.587548</td>\n",
       "      <td>139.732552</td>\n",
       "      <td>焼肉</td>\n",
       "      <td>17:00:00</td>\n",
       "      <td>23:00:00</td>\n",
       "    </tr>\n",
       "    <tr>\n",
       "      <th>4</th>\n",
       "      <td>PRE12/ARE41/SUB4101</td>\n",
       "      <td>35.859553</td>\n",
       "      <td>139.974580</td>\n",
       "      <td>中華</td>\n",
       "      <td>16:00:00</td>\n",
       "      <td>20:00:00</td>\n",
       "    </tr>\n",
       "  </tbody>\n",
       "</table>\n",
       "</div>"
      ],
      "text/plain": [
       "                answer   latitude   longitude category dinner_from dinner_to\n",
       "0  PRE13/ARE11/SUB1103  35.699149  139.758853  ラーメン・麺類    17:00:00  22:00:00\n",
       "1    PRE13/ARE7/SUB703  35.639204  139.704520    イタリアン    18:00:00  22:00:00\n",
       "2  PRE13/ARE14/SUB1405  35.656415  139.734102   すし・魚料理    17:00:00  23:00:00\n",
       "3  PRE13/ARE19/SUB1902  35.587548  139.732552       焼肉    17:00:00  23:00:00\n",
       "4  PRE12/ARE41/SUB4101  35.859553  139.974580       中華    16:00:00  20:00:00"
      ]
     },
     "execution_count": 74,
     "metadata": {},
     "output_type": "execute_result"
    }
   ],
   "source": [
    "df = pd.read_csv(\"retty_gourmet_open_q1.csv\")\n",
    "df.head()"
   ]
  },
  {
   "cell_type": "markdown",
   "metadata": {},
   "source": [
    "ある駅の緯度経度情報 (緯度 : 35.6546783 / 経度 : 139.7369874) と、店舗との距離を計算する"
   ]
  },
  {
   "cell_type": "markdown",
   "metadata": {},
   "source": [
    "## ① 緯度経度情報に GeoPy、営業時間情報に 数値型 を利用した回答方法"
   ]
  },
  {
   "cell_type": "code",
   "execution_count": 75,
   "metadata": {},
   "outputs": [
    {
     "name": "stdout",
     "output_type": "stream",
     "text": [
      "                  answer  distance category  hour_from  hour_to\n",
      "745  PRE13/ARE14/SUB1405  0.245061       焼肉     170000   233000\n"
     ]
    }
   ],
   "source": [
    "station = (35.6546783, 139.7369874)\n",
    " \n",
    "answer = []\n",
    "distance = []\n",
    "category = []\n",
    "hour_from = []\n",
    "hour_to = []\n",
    "\n",
    "for row in df.itertuples():\n",
    "    answer.append(row[1])\n",
    "    category.append(row[4])\n",
    "    \n",
    "    # 数値型に変換して配列格納\n",
    "    hour_from.append(int(row[5].replace(\":\",\"\")))\n",
    "    hour_to.append(int(row[6].replace(\":\",\"\")))\n",
    "\n",
    "    latlng = (row[2], row[3])\n",
    "    t_dis = geodesic(station, latlng).km\n",
    "    distance.append(t_dis)\n",
    "\n",
    "df_dis = pd.DataFrame(index=[], columns=['answer', 'distance', 'category', 'hour_from', 'hour_to'])\n",
    "df_dis['answer'] = answer\n",
    "df_dis['distance'] = distance\n",
    "df_dis['category'] = category\n",
    "df_dis['hour_from'] = hour_from\n",
    "df_dis['hour_to'] = hour_to\n",
    "\n",
    "# 1.5km以内 & ジャンルが焼肉 & 17時に営業中 を判定して出力\n",
    "print(df_dis.query('category==\"焼肉\" and distance < 1.0 and hour_from <= 170000 and 170000 < hour_to'))"
   ]
  },
  {
   "cell_type": "markdown",
   "metadata": {},
   "source": [
    "## ② 緯度経度情報に 三平方定理、営業時間情報に 日付型 を利用した回答方法"
   ]
  },
  {
   "cell_type": "code",
   "execution_count": 80,
   "metadata": {},
   "outputs": [
    {
     "name": "stdout",
     "output_type": "stream",
     "text": [
      "                  answer  distance category           hour_from  \\\n",
      "745  PRE13/ARE14/SUB1405  0.002388       焼肉 2021-07-30 17:00:00   \n",
      "\n",
      "                hour_to  \n",
      "745 2021-07-30 23:30:00  \n"
     ]
    }
   ],
   "source": [
    "station = (35.6546783, 139.7369874)\n",
    " \n",
    "answer = []\n",
    "distance = []\n",
    "category = []\n",
    "hour_from = []\n",
    "hour_to = []\n",
    "\n",
    "def get_distance(x1, y1, x2, y2):\n",
    "    d = math.sqrt((x2 - x1) ** 2 + (y2 - y1) ** 2)\n",
    "    return d\n",
    "\n",
    "def get_datetime(str_datetime):\n",
    "    hour, minute, second = [int(x.strip()) for x in str_datetime.split(\":\")]\n",
    "    day = datetime.now().replace(microsecond=0,second=0,minute=0,hour=0)\n",
    "    days,hour = divmod(hour,24)\n",
    "    result = day + timedelta(days=days,hours=hour,minutes=minute)\n",
    "    return result\n",
    "\n",
    "for row in df.itertuples():\n",
    "    answer.append(row[1])\n",
    "    category.append(row[4])\n",
    "    \n",
    "    # datetime型に変換して配列格納\n",
    "    hour_from.append(get_datetime(row[5]))\n",
    "    hour_to.append(get_datetime(row[6]))\n",
    "\n",
    "    latlng = (row[2], row[3])\n",
    "    t_dis = get_distance(latlng[0], latlng[1], station[0], station[1])\n",
    "    distance.append(t_dis)\n",
    "\n",
    "df_dis = pd.DataFrame(index=[], columns=['answer', 'distance', 'category', 'hour_from', 'hour_to'])\n",
    "df_dis['answer'] = answer\n",
    "df_dis['distance'] = distance\n",
    "df_dis['category'] = category\n",
    "df_dis['hour_from'] = hour_from\n",
    "df_dis['hour_to'] = hour_to\n",
    "\n",
    "print(df_dis.sort_values('distance').query('category==\"焼肉\"').loc[df_dis.hour_from <= '2021-07-30 17:00:00'].loc['2021-07-30 17:00:00' <= df_dis.hour_to].iloc[[0]])"
   ]
  },
  {
   "cell_type": "code",
   "execution_count": null,
   "metadata": {},
   "outputs": [],
   "source": []
  }
 ],
 "metadata": {
  "kernelspec": {
   "display_name": "Python 3",
   "language": "python",
   "name": "python3"
  },
  "language_info": {
   "codemirror_mode": {
    "name": "ipython",
    "version": 3
   },
   "file_extension": ".py",
   "mimetype": "text/x-python",
   "name": "python",
   "nbconvert_exporter": "python",
   "pygments_lexer": "ipython3",
   "version": "3.7.4"
  }
 },
 "nbformat": 4,
 "nbformat_minor": 4
}
