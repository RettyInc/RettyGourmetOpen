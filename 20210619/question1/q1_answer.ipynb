{
 "cells": [
  {
   "cell_type": "markdown",
   "metadata": {},
   "source": [
    "# 餃子が食べたい！！\n",
    "\n",
    "- あなたはいま餃子が食べたい\n",
    "- 1000店舗の緯度経度情報・料理ジャンルを持っています。(CSVファイル)\n",
    "- ある駅 (緯度 : 35.6721903 / 経度 :139.7363287) から1.5km以内にある餃子のお店を探す\n",
    "- そのお店の【answer (回答項目)】が、問題1の回答です。\n",
    "\n",
    "※ 緯度経度の座標はすべて世界測地系の座標\n",
    "\n",
    "CSVファイル (1000店舗の緯度経度情報) はこちらからダウンロード\n",
    "https://campaign-retty-me.s3.ap-northeast-1.amazonaws.com/prod/retty_gourmet_open/20210619/retty_gourmet_open_q1.csv\n",
    "\n",
    "\n",
    "## 回答・解説\n",
    "緯度経度とは、場所を数値的に表現する方法の一つ。\n",
    "\n",
    "- 日本測地系 : 日本独自のもの。2002年に世界測地系へ移行している\n",
    "- 世界測地系 : 国際的に定められた基準となる測地系が世界測地系\n",
    "\n",
    "ご存知の通り、地球は平面ではなく球体 (正確には楕円体) になるので、球面を気にして計算する必要がある。\n",
    "\n",
    "今回の回答例では、Python の GeoPy とよばれるジオコーディングライブラリを利用して実装。  \n",
    "GeoPy では、カーニー法とよばれる、測地線距離を求める新しいアルゴリズムを採用。  \n",
    "https://geopy.readthedocs.io/en/stable/#module-geopy.distance\n",
    "\n",
    "## その他・備考\n",
    "今回の問題に限っていくと、平面と捉えても正しい回答が導けます。  \n",
    "三平方の定理を用いて、2点の距離を求めるで回答しても問題ありません。"
   ]
  },
  {
   "cell_type": "code",
   "execution_count": 9,
   "metadata": {},
   "outputs": [],
   "source": [
    "import pandas as pd\n",
    "from geopy.distance import geodesic\n",
    "import math"
   ]
  },
  {
   "cell_type": "code",
   "execution_count": 10,
   "metadata": {
    "scrolled": false
   },
   "outputs": [
    {
     "data": {
      "text/html": [
       "<div>\n",
       "<style scoped>\n",
       "    .dataframe tbody tr th:only-of-type {\n",
       "        vertical-align: middle;\n",
       "    }\n",
       "\n",
       "    .dataframe tbody tr th {\n",
       "        vertical-align: top;\n",
       "    }\n",
       "\n",
       "    .dataframe thead th {\n",
       "        text-align: right;\n",
       "    }\n",
       "</style>\n",
       "<table border=\"1\" class=\"dataframe\">\n",
       "  <thead>\n",
       "    <tr style=\"text-align: right;\">\n",
       "      <th></th>\n",
       "      <th>answer</th>\n",
       "      <th>latitude</th>\n",
       "      <th>longitude</th>\n",
       "      <th>category</th>\n",
       "    </tr>\n",
       "  </thead>\n",
       "  <tbody>\n",
       "    <tr>\n",
       "      <th>0</th>\n",
       "      <td>PRE23/ARE64/SUB6401</td>\n",
       "      <td>35.170195</td>\n",
       "      <td>136.918005</td>\n",
       "      <td>餃子</td>\n",
       "    </tr>\n",
       "    <tr>\n",
       "      <th>1</th>\n",
       "      <td>PRE04/ARE264/SUB26401</td>\n",
       "      <td>38.186789</td>\n",
       "      <td>140.873993</td>\n",
       "      <td>和食</td>\n",
       "    </tr>\n",
       "    <tr>\n",
       "      <th>2</th>\n",
       "      <td>PRE40/ARE130/SUB13004</td>\n",
       "      <td>33.547256</td>\n",
       "      <td>130.336644</td>\n",
       "      <td>ステーキ</td>\n",
       "    </tr>\n",
       "    <tr>\n",
       "      <th>3</th>\n",
       "      <td>PRE26/ARE115/SUB11501</td>\n",
       "      <td>35.037039</td>\n",
       "      <td>135.730018</td>\n",
       "      <td>チャーハン</td>\n",
       "    </tr>\n",
       "    <tr>\n",
       "      <th>4</th>\n",
       "      <td>PRE23/ARE68/SUB6801</td>\n",
       "      <td>35.126077</td>\n",
       "      <td>136.879908</td>\n",
       "      <td>旅館</td>\n",
       "    </tr>\n",
       "  </tbody>\n",
       "</table>\n",
       "</div>"
      ],
      "text/plain": [
       "                  answer   latitude   longitude category\n",
       "0    PRE23/ARE64/SUB6401  35.170195  136.918005       餃子\n",
       "1  PRE04/ARE264/SUB26401  38.186789  140.873993       和食\n",
       "2  PRE40/ARE130/SUB13004  33.547256  130.336644     ステーキ\n",
       "3  PRE26/ARE115/SUB11501  35.037039  135.730018    チャーハン\n",
       "4    PRE23/ARE68/SUB6801  35.126077  136.879908       旅館"
      ]
     },
     "execution_count": 10,
     "metadata": {},
     "output_type": "execute_result"
    }
   ],
   "source": [
    "df = pd.read_csv(\"retty_gourmet_open_q1.csv\")\n",
    "df.head()"
   ]
  },
  {
   "cell_type": "markdown",
   "metadata": {},
   "source": [
    "ある駅の緯度経度情報 (緯度 : 35.6697 / 経度 : 139.76714) と、店舗との距離を計算する"
   ]
  },
  {
   "cell_type": "markdown",
   "metadata": {},
   "source": [
    "① GeoPyを利用した回答方法"
   ]
  },
  {
   "cell_type": "code",
   "execution_count": 18,
   "metadata": {},
   "outputs": [
    {
     "name": "stdout",
     "output_type": "stream",
     "text": [
      "                  answer  distance category\n",
      "594  PRE13/ARE14/SUB1401  0.623166       餃子\n"
     ]
    }
   ],
   "source": [
    "station = (35.6721903, 139.7363287)\n",
    "\n",
    "ans = []\n",
    "dis = []\n",
    "cat = []\n",
    "\n",
    "for row in df.itertuples():\n",
    "    ans.append(row[1])\n",
    "    restaurant = (row[2], row[3])\n",
    "    cat.append(row[4])\n",
    "    t_dis = geodesic(station, restaurant).km \n",
    "    dis.append(t_dis)\n",
    "\n",
    "df_dis = pd.DataFrame(index=[], columns=['answer', 'distance', 'category'])\n",
    "df_dis['answer'] = ans\n",
    "df_dis['distance'] = dis\n",
    "df_dis['category'] = cat\n",
    "\n",
    "print(df_dis.sort_values('distance').query('category==\"餃子\"').iloc[[0]])"
   ]
  },
  {
   "cell_type": "markdown",
   "metadata": {},
   "source": [
    "② 平面と満たして、三平方の定理を利用して距離を出す方法"
   ]
  },
  {
   "cell_type": "code",
   "execution_count": 19,
   "metadata": {},
   "outputs": [
    {
     "name": "stdout",
     "output_type": "stream",
     "text": [
      "                  answer  distance category\n",
      "594  PRE13/ARE14/SUB1401   0.00681       餃子\n"
     ]
    }
   ],
   "source": [
    "station = (35.6721903, 139.7363287)\n",
    "\n",
    "ans = []\n",
    "dis = []\n",
    "\n",
    "def get_distance(x1, y1, x2, y2):\n",
    "    d = math.sqrt((x2 - x1) ** 2 + (y2 - y1) ** 2)\n",
    "    return d\n",
    "\n",
    "for row in df.itertuples():\n",
    "    ans.append(row[1])\n",
    "    t_dis = get_distance(row[2], row[3], 35.6721903, 139.7363287)\n",
    "    dis.append(t_dis)\n",
    "\n",
    "df_dis = pd.DataFrame(index=[], columns=['answer', 'distance', 'category'])\n",
    "df_dis['answer'] = ans\n",
    "df_dis['distance'] = dis\n",
    "df_dis['category'] = cat\n",
    "\n",
    "print(df_dis.sort_values('distance').query('category==\"餃子\"').iloc[[0]])"
   ]
  },
  {
   "cell_type": "code",
   "execution_count": null,
   "metadata": {},
   "outputs": [],
   "source": []
  }
 ],
 "metadata": {
  "kernelspec": {
   "display_name": "Python 3",
   "language": "python",
   "name": "python3"
  },
  "language_info": {
   "codemirror_mode": {
    "name": "ipython",
    "version": 3
   },
   "file_extension": ".py",
   "mimetype": "text/x-python",
   "name": "python",
   "nbconvert_exporter": "python",
   "pygments_lexer": "ipython3",
   "version": "3.7.4"
  }
 },
 "nbformat": 4,
 "nbformat_minor": 4
}
