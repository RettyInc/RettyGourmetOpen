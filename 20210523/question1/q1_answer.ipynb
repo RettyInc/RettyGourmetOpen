{
 "cells": [
  {
   "cell_type": "markdown",
   "metadata": {},
   "source": [
    "# ある駅 (緯度経度座標) から最も近いお店を探す\n",
    "\n",
    "- 1000店舗の緯度経度情報を持っています。(CSVファイル)\n",
    "- 1000店舗のうち、ある駅 (緯度 : 35.6697 / 経度 : 139.76714) から最も近いお店を探してください。\n",
    "- そのお店の【answer (回答項目)】が、問題1の回答です。\n",
    "\n",
    "## 回答・解説\n",
    "緯度経度とは、場所を数値的に表現する方法の一つ。\n",
    "\n",
    "- 日本測地系 : 日本独自のもの。2002年に世界測地系へ移行している\n",
    "- 世界測地系 : 国際的に定められた基準となる測地系が世界測地系\n",
    "\n",
    "ご存知の通り、地球は平面ではなく球体 (正確には楕円体) になるので、球面を気にして計算する必要がある。\n",
    "\n",
    "今回の回答例では、Python の GeoPy とよばれるジオコーディングライブラリを利用して実装。  \n",
    "GeoPy では、カーニー法とよばれる、測地線距離を求める新しいアルゴリズムを採用。  \n",
    "https://geopy.readthedocs.io/en/stable/#module-geopy.distance\n",
    "\n",
    "## その他・備考\n",
    "今回の問題に限っていくと、平面と捉えても正しい回答が導けます。  \n",
    "三平方の定理を用いて、2点の距離を求めるで回答しても問題ありません。"
   ]
  },
  {
   "cell_type": "code",
   "execution_count": 5,
   "metadata": {},
   "outputs": [],
   "source": [
    "import pandas as pd\n",
    "from geopy.distance import geodesic\n",
    "import math"
   ]
  },
  {
   "cell_type": "code",
   "execution_count": 6,
   "metadata": {
    "scrolled": false
   },
   "outputs": [
    {
     "data": {
      "text/html": [
       "<div>\n",
       "<style scoped>\n",
       "    .dataframe tbody tr th:only-of-type {\n",
       "        vertical-align: middle;\n",
       "    }\n",
       "\n",
       "    .dataframe tbody tr th {\n",
       "        vertical-align: top;\n",
       "    }\n",
       "\n",
       "    .dataframe thead th {\n",
       "        text-align: right;\n",
       "    }\n",
       "</style>\n",
       "<table border=\"1\" class=\"dataframe\">\n",
       "  <thead>\n",
       "    <tr style=\"text-align: right;\">\n",
       "      <th></th>\n",
       "      <th>answer</th>\n",
       "      <th>latitude</th>\n",
       "      <th>longitude</th>\n",
       "    </tr>\n",
       "  </thead>\n",
       "  <tbody>\n",
       "    <tr>\n",
       "      <th>0</th>\n",
       "      <td>PRE13/ARE8/SUB802</td>\n",
       "      <td>35.662584</td>\n",
       "      <td>139.697330</td>\n",
       "    </tr>\n",
       "    <tr>\n",
       "      <th>1</th>\n",
       "      <td>PRE13/ARE21/SUB2104</td>\n",
       "      <td>35.779926</td>\n",
       "      <td>139.752400</td>\n",
       "    </tr>\n",
       "    <tr>\n",
       "      <th>2</th>\n",
       "      <td>PRE13/ARE1/SUB113</td>\n",
       "      <td>35.687969</td>\n",
       "      <td>139.698860</td>\n",
       "    </tr>\n",
       "    <tr>\n",
       "      <th>3</th>\n",
       "      <td>PRE13/ARE17/SUB1703</td>\n",
       "      <td>35.718883</td>\n",
       "      <td>139.857683</td>\n",
       "    </tr>\n",
       "    <tr>\n",
       "      <th>4</th>\n",
       "      <td>PRE13/ARE11/SUB1103</td>\n",
       "      <td>35.696706</td>\n",
       "      <td>139.760129</td>\n",
       "    </tr>\n",
       "  </tbody>\n",
       "</table>\n",
       "</div>"
      ],
      "text/plain": [
       "                answer   latitude   longitude\n",
       "0    PRE13/ARE8/SUB802  35.662584  139.697330\n",
       "1  PRE13/ARE21/SUB2104  35.779926  139.752400\n",
       "2    PRE13/ARE1/SUB113  35.687969  139.698860\n",
       "3  PRE13/ARE17/SUB1703  35.718883  139.857683\n",
       "4  PRE13/ARE11/SUB1103  35.696706  139.760129"
      ]
     },
     "execution_count": 6,
     "metadata": {},
     "output_type": "execute_result"
    }
   ],
   "source": [
    "df = pd.read_csv(\"retty_gourmet_open_q1.csv\")\n",
    "df.head()"
   ]
  },
  {
   "cell_type": "markdown",
   "metadata": {},
   "source": [
    "ある駅の緯度経度情報 (緯度 : 35.6697 / 経度 : 139.76714) と、店舗との距離を計算する"
   ]
  },
  {
   "cell_type": "markdown",
   "metadata": {},
   "source": [
    "① GeoPyを利用した回答方法"
   ]
  },
  {
   "cell_type": "code",
   "execution_count": 10,
   "metadata": {},
   "outputs": [
    {
     "name": "stdout",
     "output_type": "stream",
     "text": [
      "                answer  distance\n",
      "732  PRE13/ARE2/SUB201  0.171228\n"
     ]
    }
   ],
   "source": [
    "station = (35.6697, 139.76714)\n",
    "\n",
    "ans = []\n",
    "dis = []\n",
    "\n",
    "for row in df.itertuples():\n",
    "    ans.append(row[1])\n",
    "    restaurant = (row[2], row[3])\n",
    "    t_dis = geodesic(station, restaurant).km \n",
    "    dis.append(t_dis)\n",
    "\n",
    "df_dis = pd.DataFrame(index=[], columns=['answer', 'distance'])\n",
    "df_dis['answer'] = ans\n",
    "df_dis['distance'] = dis\n",
    "\n",
    "print(df_dis.sort_values('distance').iloc[[0]])"
   ]
  },
  {
   "cell_type": "markdown",
   "metadata": {},
   "source": [
    "② 平面と満たして、三平方の定理を利用して距離を出す方法"
   ]
  },
  {
   "cell_type": "code",
   "execution_count": 11,
   "metadata": {},
   "outputs": [
    {
     "name": "stdout",
     "output_type": "stream",
     "text": [
      "                answer  distance\n",
      "732  PRE13/ARE2/SUB201  0.001825\n"
     ]
    }
   ],
   "source": [
    "station = (35.6697, 139.76714)\n",
    "\n",
    "ans = []\n",
    "dis = []\n",
    "\n",
    "def get_distance(x1, y1, x2, y2):\n",
    "    d = math.sqrt((x2 - x1) ** 2 + (y2 - y1) ** 2)\n",
    "    return d\n",
    "\n",
    "for row in df.itertuples():\n",
    "    ans.append(row[1])\n",
    "    t_dis = get_distance(row[2], row[3], 35.6697, 139.76714)\n",
    "    dis.append(t_dis)\n",
    "\n",
    "df_dis = pd.DataFrame(index=[], columns=['answer', 'distance'])\n",
    "df_dis['answer'] = ans\n",
    "df_dis['distance'] = dis\n",
    "\n",
    "print(df_dis.sort_values('distance').iloc[[0]])"
   ]
  },
  {
   "cell_type": "code",
   "execution_count": null,
   "metadata": {},
   "outputs": [],
   "source": []
  }
 ],
 "metadata": {
  "kernelspec": {
   "display_name": "Python 3",
   "language": "python",
   "name": "python3"
  },
  "language_info": {
   "codemirror_mode": {
    "name": "ipython",
    "version": 3
   },
   "file_extension": ".py",
   "mimetype": "text/x-python",
   "name": "python",
   "nbconvert_exporter": "python",
   "pygments_lexer": "ipython3",
   "version": "3.7.4"
  }
 },
 "nbformat": 4,
 "nbformat_minor": 4
}
